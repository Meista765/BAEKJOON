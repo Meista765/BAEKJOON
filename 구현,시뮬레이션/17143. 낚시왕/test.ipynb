{
 "cells": [
  {
   "cell_type": "code",
   "execution_count": 4,
   "metadata": {},
   "outputs": [],
   "source": [
    "from heapq import heappop, heappush\n",
    "\n",
    "# 전역 변수\n",
    "UP = 1\n",
    "DOWN = 2\n",
    "RIGHT = 3\n",
    "LEFT = 4\n",
    "\n",
    "DELTAS = {\n",
    "    1: (-1, 0),  # UP\n",
    "    2: (1, 0),  # DOWN\n",
    "    3: (0, 1),  # RIGHT\n",
    "    4: (0, -1),  # LEFT\n",
    "}\n",
    "\n",
    "class Shark:\n",
    "\n",
    "    def __init__(self, r: int, c: int, speed: int, direction: int, size: int) -> None:\n",
    "        self.r = r\n",
    "        self.c = c\n",
    "        self.speed = speed\n",
    "        self.direction = direction\n",
    "        self.size = size\n",
    "\n",
    "    # 트릭 1; 대소 비교를 반대로 만들어, heapq를 운용한다.\n",
    "    def __lt__(self, other):  # less than\n",
    "        return self.size > other.size\n",
    "\n",
    "    def toggle(self):\n",
    "        if self.direction == UP:\n",
    "            self.direction = DOWN\n",
    "        elif self.direction == DOWN:\n",
    "            self.direction = UP\n",
    "        elif self.direction == RIGHT:\n",
    "            self.direction = LEFT\n",
    "        elif self.direction == LEFT:\n",
    "            self.direction = RIGHT\n",
    "\n",
    "    def move(self, row_limit: int, col_limit: int):\n",
    "        delta = DELTAS[self.direction]\n",
    "        for _ in range(self.speed):\n",
    "            self.r += delta[0]\n",
    "            self.c += delta[1]\n",
    "\n",
    "            if self.r < 0:\n",
    "                self.r = -self.r\n",
    "                self.toggle()\n",
    "            elif self.r >= row_limit:\n",
    "                self.r = row_limit - 2\n",
    "                self.toggle()\n",
    "\n",
    "            if self.c < 0:\n",
    "                self.c = -self.c\n",
    "                self.toggle()\n",
    "            elif self.c >= col_limit:\n",
    "                self.c = col_limit - 2\n",
    "                self.toggle()"
   ]
  },
  {
   "cell_type": "code",
   "execution_count": 8,
   "metadata": {},
   "outputs": [],
   "source": [
    "shark = Shark(2,2,2,3,5)"
   ]
  },
  {
   "cell_type": "code",
   "execution_count": 9,
   "metadata": {},
   "outputs": [],
   "source": [
    "shark.move(4, 6)"
   ]
  },
  {
   "cell_type": "code",
   "execution_count": 10,
   "metadata": {},
   "outputs": [
    {
     "name": "stdout",
     "output_type": "stream",
     "text": [
      "2\n"
     ]
    }
   ],
   "source": [
    "print(shark.r)"
   ]
  },
  {
   "cell_type": "code",
   "execution_count": null,
   "metadata": {},
   "outputs": [],
   "source": []
  }
 ],
 "metadata": {
  "kernelspec": {
   "display_name": "Python 3",
   "language": "python",
   "name": "python3"
  },
  "language_info": {
   "codemirror_mode": {
    "name": "ipython",
    "version": 3
   },
   "file_extension": ".py",
   "mimetype": "text/x-python",
   "name": "python",
   "nbconvert_exporter": "python",
   "pygments_lexer": "ipython3",
   "version": "3.9.13"
  }
 },
 "nbformat": 4,
 "nbformat_minor": 2
}
