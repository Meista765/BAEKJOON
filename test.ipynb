{
 "cells": [
  {
   "cell_type": "code",
   "execution_count": 1,
   "metadata": {},
   "outputs": [
    {
     "name": "stdout",
     "output_type": "stream",
     "text": [
      "1 \n",
      "2 6 \n",
      "3 7 11 \n",
      "4 8 12 16 \n",
      "5 9 13 17 21 \n",
      "10 14 18 22 \n",
      "15 19 23 \n",
      "20 24 \n",
      "25 \n"
     ]
    }
   ],
   "source": [
    "def zigzag_diagonal(matrix):\n",
    "    N = len(matrix)\n",
    "    \n",
    "    for k in range(2 * N - 1):\n",
    "        for i in range(k + 1):\n",
    "            j = k - i\n",
    "            if i < N and j < N:\n",
    "                print(matrix[i][j], end=\" \")\n",
    "        print()\n",
    "\n",
    "# 예시 입력\n",
    "matrix = [\n",
    "    [1, 2, 3, 4, 5],\n",
    "    [6, 7, 8, 9, 10],\n",
    "    [11, 12, 13, 14, 15],\n",
    "    [16, 17, 18, 19, 20],\n",
    "    [21, 22, 23, 24, 25]\n",
    "]\n",
    "\n",
    "zigzag_diagonal(matrix)\n"
   ]
  },
  {
   "cell_type": "code",
   "execution_count": 3,
   "metadata": {},
   "outputs": [
    {
     "name": "stdout",
     "output_type": "stream",
     "text": [
      "1 1\n",
      "1 2\n",
      "1 3\n",
      "2 1\n",
      "2 2\n",
      "2 3\n",
      "3 1\n",
      "3 2\n",
      "3 3\n"
     ]
    }
   ],
   "source": [
    "for i in range(1, 4):\n",
    "    for j in range(1, 4):\n",
    "        print('{} {}'.format(i, j))"
   ]
  },
  {
   "cell_type": "code",
   "execution_count": null,
   "metadata": {},
   "outputs": [],
   "source": [
    "DEBUG = 1\n",
    "\n",
    "if DEBUG:\n",
    "    print('hello')"
   ]
  },
  {
   "cell_type": "code",
   "execution_count": null,
   "metadata": {},
   "outputs": [
    {
     "ename": "",
     "evalue": "",
     "output_type": "error",
     "traceback": [
      "\u001b[1;31m현재 셀 또는 이전 셀에서 코드를 실행하는 동안 Kernel이 충돌했습니다. \n",
      "\u001b[1;31m셀의 코드를 검토하여 가능한 오류 원인을 식별하세요. \n",
      "\u001b[1;31m자세한 내용을 보려면 <a href='https://aka.ms/vscodeJupyterKernelCrash'>여기</a>를 클릭하세요. \n",
      "\u001b[1;31m자세한 내용은 Jupyter <a href='command:jupyter.viewOutput'>로그</a>를 참조하세요."
     ]
    }
   ],
   "source": [
    "def KFC(x):\n",
    "    KFC(x+1)\n",
    "\n",
    "KFC(0)\n",
    "print('끝')"
   ]
  },
  {
   "cell_type": "code",
   "execution_count": 2,
   "metadata": {},
   "outputs": [
    {
     "name": "stdout",
     "output_type": "stream",
     "text": [
      "0 1 2 3 4 5 5 4 3 2 1 0 "
     ]
    }
   ],
   "source": [
    "def fun(x):\n",
    "    if x > 5:\n",
    "        return\n",
    "    \n",
    "    print(x, end = ' ')\n",
    "    fun(x+1)\n",
    "    print(x, end = ' ')\n",
    "\n",
    "fun(0)"
   ]
  },
  {
   "cell_type": "code",
   "execution_count": 3,
   "metadata": {},
   "outputs": [
    {
     "name": "stdout",
     "output_type": "stream",
     "text": [
      "[4, 1] 3 3 8\n",
      "<class 'list'>\n"
     ]
    }
   ],
   "source": [
    "*coord, speed, direction, size = (4, 1, 3, 3, 8)\n",
    "print(coord, speed, direction, size)\n",
    "print(type(coord))\n"
   ]
  },
  {
   "cell_type": "code",
   "execution_count": 4,
   "metadata": {},
   "outputs": [
    {
     "name": "stdout",
     "output_type": "stream",
     "text": [
      "5\n",
      "[]\n"
     ]
    }
   ],
   "source": [
    "from heapq import heappop, heappush\n",
    "\n",
    "class Shark:\n",
    "    def __init__(self, r: int, c: int, speed: int, direction: int, size: int) -> None:\n",
    "        self.r = r\n",
    "        self.c = c\n",
    "        self.speed = speed\n",
    "        self.direction = direction\n",
    "        self.size = size\n",
    "\n",
    "    def __lt__(self, other): # less than\n",
    "        return self.size > other.size\n",
    "\n",
    "    def __le__(self, other): # less than and equal to\n",
    "        return self.size >= other.size\n",
    "\n",
    "    def __gt__(self, other): # greater than\n",
    "        return self.size <= other.size\n",
    "\n",
    "    def __ge__(self, other): # greater than equal to\n",
    "        return self.size < other.size\n",
    "\n",
    "    def __eq__(self, other): # equal to\n",
    "        return self.size == other.size\n",
    "\n",
    "    def __ne__(self, other): # not equal to\n",
    "        return self.size != other.size\n",
    "\n",
    "my_q = []\n",
    "\n",
    "heappush(my_q, Shark(1, 1, 1, 1, 1))\n",
    "heappush(my_q, Shark(1, 1, 1, 1, 2))\n",
    "heappush(my_q, Shark(1, 1, 1, 1, 3))\n",
    "heappush(my_q, Shark(1, 1, 1, 1, 4))\n",
    "heappush(my_q, Shark(1, 1, 1, 1, 5))\n",
    "\n",
    "shark = heappop(my_q)\n",
    "print(shark.size)\n",
    "\n",
    "my_q.clear()\n",
    "print(my_q)"
   ]
  },
  {
   "cell_type": "code",
   "execution_count": null,
   "metadata": {},
   "outputs": [],
   "source": []
  }
 ],
 "metadata": {
  "kernelspec": {
   "display_name": "Python 3",
   "language": "python",
   "name": "python3"
  },
  "language_info": {
   "codemirror_mode": {
    "name": "ipython",
    "version": 3
   },
   "file_extension": ".py",
   "mimetype": "text/x-python",
   "name": "python",
   "nbconvert_exporter": "python",
   "pygments_lexer": "ipython3",
   "version": "3.12.3"
  }
 },
 "nbformat": 4,
 "nbformat_minor": 2
}
