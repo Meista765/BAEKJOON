{
 "cells": [
  {
   "cell_type": "code",
   "execution_count": 7,
   "metadata": {},
   "outputs": [
    {
     "name": "stdout",
     "output_type": "stream",
     "text": [
      "Memory address of MyClass: 1482634151520\n",
      "Memory address of instance1: 1482652328992\n",
      "Memory address of instance2: 1482652330720\n"
     ]
    }
   ],
   "source": [
    "class MyClass:\n",
    "    def __init__(self, value):\n",
    "        self.value = value\n",
    "\n",
    "# Create instances of MyClass\n",
    "instance1 = MyClass(10)\n",
    "instance2 = MyClass(20)\n",
    "\n",
    "# Check the memory address of the class\n",
    "class_address = id(MyClass)\n",
    "print(f\"Memory address of MyClass: {class_address}\")\n",
    "\n",
    "# Check the memory addresses of the instances\n",
    "instance1_address = id(instance1)\n",
    "instance2_address = id(instance2)\n",
    "print(f\"Memory address of instance1: {instance1_address}\")\n",
    "print(f\"Memory address of instance2: {instance2_address}\")\n"
   ]
  },
  {
   "cell_type": "code",
   "execution_count": null,
   "metadata": {},
   "outputs": [],
   "source": []
  }
 ],
 "metadata": {
  "kernelspec": {
   "display_name": "Python 3",
   "language": "python",
   "name": "python3"
  },
  "language_info": {
   "codemirror_mode": {
    "name": "ipython",
    "version": 3
   },
   "file_extension": ".py",
   "mimetype": "text/x-python",
   "name": "python",
   "nbconvert_exporter": "python",
   "pygments_lexer": "ipython3",
   "version": "3.12.0"
  }
 },
 "nbformat": 4,
 "nbformat_minor": 2
}
